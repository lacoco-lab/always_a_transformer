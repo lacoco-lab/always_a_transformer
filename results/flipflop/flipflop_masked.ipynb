{
 "cells": [
  {
   "cell_type": "code",
   "execution_count": 14,
   "id": "b95e67ee-f116-432b-b962-7fb63f6c155b",
   "metadata": {},
   "outputs": [],
   "source": [
    "import numpy as np\n",
    "import pandas as pd\n",
    "import matplotlib.pyplot as plt\n",
    "import re\n",
    "import json\n",
    "from collections import defaultdict\n",
    "import os"
   ]
  },
  {
   "cell_type": "code",
   "execution_count": 2,
   "id": "1fd78454-26fd-4b5f-8f38-4dceda09d20c",
   "metadata": {},
   "outputs": [],
   "source": [
    "def get_data(path):\n",
    "    with open(path, 'r') as file:\n",
    "        data = [json.loads(line) for line in file]\n",
    "    return data"
   ]
  },
  {
   "cell_type": "code",
   "execution_count": 3,
   "id": "6d33ea20-3c48-4900-abcb-6071e66e7093",
   "metadata": {},
   "outputs": [],
   "source": [
    "def get_of_length(length, path):\n",
    "    data = get_data(path)\n",
    "\n",
    "    flipflop_of_length = []\n",
    "    for line in data:\n",
    "        if len(line['flipflop']) == length:\n",
    "            flipflop_of_length.append(line)\n",
    "\n",
    "    return flipflop_of_length"
   ]
  },
  {
   "cell_type": "code",
   "execution_count": 13,
   "id": "eef1eabd-a445-4809-a5e6-b39eb25e637c",
   "metadata": {},
   "outputs": [],
   "source": [
    "def mask_bit(input_string):\n",
    "    \"\"\"\n",
    "    Masks the bit immediately following the last 'w' in the input string.\n",
    "\n",
    "    Args:\n",
    "        input_string (str): The input string containing 'w' and other characters.\n",
    "\n",
    "    Returns:\n",
    "        str: The modified string with the bit after the last 'w' masked as '*'.\n",
    "    \"\"\"\n",
    "    last_w_index = input_string.rfind('w')\n",
    "\n",
    "    # Replace the bit after the last 'w' with '<masked_digit>'\n",
    "    masked_string = input_string[:last_w_index + 1] + '<masked_digit>' + input_string[last_w_index + 2:]\n",
    "    return masked_string\n"
   ]
  },
  {
   "cell_type": "code",
   "execution_count": 17,
   "id": "126b8a18-dfa4-425a-83a5-5dd6b1449e01",
   "metadata": {},
   "outputs": [],
   "source": [
    "def get_base_accuracy(responses):\n",
    "    \"\"\"\n",
    "    Calculates the baseline (raw) accuracy of the reported answers\n",
    "    :param responses: list of dictionaries containing model's answers\n",
    "    :return: float, correct answers proportion\n",
    "    \"\"\"\n",
    "\n",
    "    correct = 0\n",
    "    for response in responses:\n",
    "        if int(response['answer']) == mask_bit(response['flipflop']):\n",
    "            correct += 1\n",
    "\n",
    "    return correct / len(responses)"
   ]
  },
  {
   "cell_type": "code",
   "execution_count": null,
   "id": "5754c306-6bc2-4f3c-816d-04af675ae91b",
   "metadata": {},
   "outputs": [],
   "source": []
  }
 ],
 "metadata": {
  "kernelspec": {
   "display_name": "Python 3 (ipykernel)",
   "language": "python",
   "name": "python3"
  },
  "language_info": {
   "codemirror_mode": {
    "name": "ipython",
    "version": 3
   },
   "file_extension": ".py",
   "mimetype": "text/x-python",
   "name": "python",
   "nbconvert_exporter": "python",
   "pygments_lexer": "ipython3",
   "version": "3.12.2"
  }
 },
 "nbformat": 4,
 "nbformat_minor": 5
}
