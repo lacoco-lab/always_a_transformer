{
 "cells": [
  {
   "cell_type": "code",
   "execution_count": 54,
   "id": "initial_id",
   "metadata": {},
   "outputs": [],
   "source": [
    "import numpy as np\n",
    "import pandas as pd\n",
    "import json\n",
    "from evaluate_flipflop import get_base_accuracy, get_digit_accuracy, get_relaxed_distance_accuracy, get_strict_distance_accuracy, get_per_dist_accuracy"
   ]
  },
  {
   "cell_type": "code",
   "execution_count": 55,
   "id": "ef6fc522-dce2-4ebc-9d40-764fdb5e8ffc",
   "metadata": {},
   "outputs": [],
   "source": [
    "llama_res = 'llama3.1_70B'\n",
    "olmo_res = 'OLMo_7B'\n",
    "\n",
    "length_10 = 'flipflop_10_results.jsonl'\n",
    "length_18 = 'flipflop_18_results.jsonl'"
   ]
  },
  {
   "cell_type": "code",
   "execution_count": 56,
   "id": "84cc2e04-2944-4dda-b62f-78d0fe2e6fe7",
   "metadata": {},
   "outputs": [],
   "source": [
    "def get_data(path):\n",
    "    with open(path, 'r') as file:\n",
    "        data = [json.loads(line) for line in file]\n",
    "    return data"
   ]
  },
  {
   "cell_type": "code",
   "execution_count": 57,
   "id": "50acb590-6047-42e0-b2d5-7f96a4a009ac",
   "metadata": {},
   "outputs": [],
   "source": [
    "def get_of_length(length, path):\n",
    "    data = get_data(path)\n",
    "\n",
    "    flipflop_of_length = []\n",
    "    for line in data:\n",
    "        if len(line['flipflop']) == length:\n",
    "            flipflop_of_length.append(line)\n",
    "\n",
    "    return flipflop_of_length"
   ]
  },
  {
   "cell_type": "code",
   "execution_count": 58,
   "id": "ca1e903a-8b0d-4698-bf9f-2143b84ed93f",
   "metadata": {},
   "outputs": [],
   "source": [
    "llama_10_path = llama_res + '/' + length_10\n",
    "llama_18_path = llama_res + '/' + length_18\n",
    "olmo_10_path = olmo_res + '/' + length_10\n",
    "olmo_18_path = olmo_res + '/' + length_18"
   ]
  },
  {
   "cell_type": "code",
   "execution_count": 59,
   "id": "450aa0bf-5e20-436b-923a-100abdf28573",
   "metadata": {},
   "outputs": [],
   "source": [
    "llama_to_18 = get_data(llama_18_path)\n",
    "olmo_to_18 = get_data(olmo_18_path)"
   ]
  },
  {
   "cell_type": "code",
   "execution_count": 60,
   "id": "74b09678-1ac9-4221-8367-f971eb3d96ab",
   "metadata": {},
   "outputs": [],
   "source": [
    "flipflop_llama_4 = get_of_length(4, llama_10_path)\n",
    "flipflop_llama_6 = get_of_length(6, llama_10_path)\n",
    "flipflop_llama_8 = get_of_length(8, llama_10_path)\n",
    "flipflop_llama_10 = get_of_length(10, llama_10_path)\n",
    "flipflop_llama_12 = get_of_length(12, llama_18_path)\n",
    "flipflop_llama_14 = get_of_length(14, llama_18_path)\n",
    "flipflop_llama_16 = get_of_length(16, llama_18_path)\n",
    "flipflop_llama_18 = get_of_length(18, llama_18_path)\n",
    "\n",
    "llama_flipflops = {'4': flipflop_llama_4, '6': flipflop_llama_6, '8': flipflop_llama_8, '10': flipflop_llama_10, '12': flipflop_llama_12, \n",
    "                   '14': flipflop_llama_14, '16': flipflop_llama_16, '18': flipflop_llama_18}"
   ]
  },
  {
   "cell_type": "code",
   "execution_count": 61,
   "id": "2016f124-733a-4ca0-9ea1-839df3c7224e",
   "metadata": {},
   "outputs": [],
   "source": [
    "flipflop_olmo_4 = get_of_length(4, olmo_10_path)\n",
    "flipflop_olmo_6 = get_of_length(6, olmo_10_path)\n",
    "flipflop_olmo_8 = get_of_length(8, olmo_10_path)\n",
    "flipflop_olmo_10 = get_of_length(10, olmo_10_path)\n",
    "flipflop_olmo_12 = get_of_length(12, olmo_18_path)\n",
    "flipflop_olmo_14 = get_of_length(14, olmo_18_path)\n",
    "flipflop_olmo_16 = get_of_length(16, olmo_18_path)\n",
    "flipflop_olmo_18 = get_of_length(18, olmo_18_path)\n",
    "\n",
    "\n",
    "olmo_flipflops = {'4': flipflop_olmo_4, '6': flipflop_olmo_6, '8': flipflop_olmo_8, '10': flipflop_olmo_10, '12': flipflop_olmo_12, \n",
    "                   '14': flipflop_olmo_14, '16': flipflop_olmo_16, '18': flipflop_olmo_18}"
   ]
  },
  {
   "cell_type": "markdown",
   "id": "d4ab6c32-f414-4bc6-87e4-4dfc5975a418",
   "metadata": {},
   "source": [
    "## Base accuracy for Llama Fliflops"
   ]
  },
  {
   "cell_type": "code",
   "execution_count": 62,
   "id": "9ef86304-849b-4505-9967-9ff37f3e7648",
   "metadata": {},
   "outputs": [
    {
     "name": "stdout",
     "output_type": "stream",
     "text": [
      "Base accuracy for flipflop of length 4 is 1.0\n",
      "Base accuracy for flipflop of length 6 is 1.0\n",
      "Base accuracy for flipflop of length 8 is 1.0\n",
      "Base accuracy for flipflop of length 10 is 0.9594594594594594\n",
      "Base accuracy for flipflop of length 12 is 0.9661538461538461\n",
      "Base accuracy for flipflop of length 14 is 0.965782122905028\n",
      "Base accuracy for flipflop of length 16 is 0.9732467943644135\n",
      "Base accuracy for flipflop of length 18 is 0.9756618121816486\n"
     ]
    }
   ],
   "source": [
    "for length in llama_flipflops.keys():\n",
    "    print(f\"Base accuracy for flipflop of length {length} is {get_base_accuracy(llama_flipflops[length])}\")"
   ]
  },
  {
   "cell_type": "markdown",
   "id": "fb5cff38-71a7-44c4-952d-e480c20aa595",
   "metadata": {},
   "source": [
    "## Base accuracy for OLMo Flipflops"
   ]
  },
  {
   "cell_type": "code",
   "execution_count": 63,
   "id": "28e5e8f3-d18c-432b-b8ae-1ed6d08d4399",
   "metadata": {},
   "outputs": [
    {
     "name": "stdout",
     "output_type": "stream",
     "text": [
      "Base accuracy for flipflop of length 4 is 0.5\n",
      "Base accuracy for flipflop of length 6 is 0.75\n",
      "Base accuracy for flipflop of length 8 is 0.7352941176470589\n",
      "Base accuracy for flipflop of length 10 is 0.6824324324324325\n",
      "Base accuracy for flipflop of length 12 is 0.6553846153846153\n",
      "Base accuracy for flipflop of length 14 is 0.6501396648044693\n",
      "Base accuracy for flipflop of length 16 is 0.6325787557384834\n",
      "Base accuracy for flipflop of length 18 is 0.6180859459071669\n"
     ]
    }
   ],
   "source": [
    "for length in olmo_flipflops.keys():\n",
    "    print(f\"Base accuracy for flipflop of length {length} is {get_base_accuracy(olmo_flipflops[length])}\")"
   ]
  },
  {
   "cell_type": "markdown",
   "id": "dd4b7093-1d22-4263-adb6-b819b86f95b9",
   "metadata": {},
   "source": [
    "## Per digit accuracy for Llama Flipflops - digit 0"
   ]
  },
  {
   "cell_type": "code",
   "execution_count": 64,
   "id": "0f522aa4-d8e3-4f6d-962f-253415b2641e",
   "metadata": {},
   "outputs": [
    {
     "name": "stdout",
     "output_type": "stream",
     "text": [
      "Digit accuracy for flipflop of length 4 is 1.0\n",
      "Digit accuracy for flipflop of length 6 is 1.0\n",
      "Digit accuracy for flipflop of length 8 is 1.0\n",
      "Digit accuracy for flipflop of length 10 is 0.9594594594594594\n",
      "Digit accuracy for flipflop of length 12 is 0.9723076923076923\n",
      "Digit accuracy for flipflop of length 14 is 0.9650837988826816\n",
      "Digit accuracy for flipflop of length 16 is 0.9692892195662498\n",
      "Digit accuracy for flipflop of length 18 is 0.9685056316808953\n"
     ]
    }
   ],
   "source": [
    "for length in llama_flipflops.keys():\n",
    "    print(f\"Digit accuracy for flipflop of length {length} is {get_digit_accuracy(llama_flipflops[length], 0)}\")"
   ]
  },
  {
   "cell_type": "markdown",
   "id": "9798c937-cada-4f8c-823c-86088f1f4178",
   "metadata": {},
   "source": [
    "## Per digit accuracy for Llama Flipflops - digit 1"
   ]
  },
  {
   "cell_type": "code",
   "execution_count": 65,
   "id": "ab0bebd0-97f7-4138-bda6-96e958e2df64",
   "metadata": {},
   "outputs": [
    {
     "name": "stdout",
     "output_type": "stream",
     "text": [
      "Digit accuracy for flipflop of length 4 is 1.0\n",
      "Digit accuracy for flipflop of length 6 is 1.0\n",
      "Digit accuracy for flipflop of length 8 is 1.0\n",
      "Digit accuracy for flipflop of length 10 is 0.9594594594594594\n",
      "Digit accuracy for flipflop of length 12 is 0.96\n",
      "Digit accuracy for flipflop of length 14 is 0.9664804469273743\n",
      "Digit accuracy for flipflop of length 16 is 0.9772043691625771\n",
      "Digit accuracy for flipflop of length 18 is 0.9828179926824019\n"
     ]
    }
   ],
   "source": [
    "for length in llama_flipflops.keys():\n",
    "    print(f\"Digit accuracy for flipflop of length {length} is {get_digit_accuracy(llama_flipflops[length], 1)}\")"
   ]
  },
  {
   "cell_type": "markdown",
   "id": "b85a45ca-2799-4faf-b679-fd1332dde4d9",
   "metadata": {},
   "source": [
    "## Per digit accuracy for OLMo Flipflops - digit 0"
   ]
  },
  {
   "cell_type": "code",
   "execution_count": 66,
   "id": "4c4994ab-9fb7-4973-8333-35250cde0b4a",
   "metadata": {},
   "outputs": [
    {
     "name": "stdout",
     "output_type": "stream",
     "text": [
      "Digit accuracy for flipflop of length 4 is 1.0\n",
      "Digit accuracy for flipflop of length 6 is 1.0\n",
      "Digit accuracy for flipflop of length 8 is 0.9411764705882353\n",
      "Digit accuracy for flipflop of length 10 is 0.9459459459459459\n",
      "Digit accuracy for flipflop of length 12 is 0.9353846153846154\n",
      "Digit accuracy for flipflop of length 14 is 0.9455307262569832\n",
      "Digit accuracy for flipflop of length 16 is 0.9637486148488207\n",
      "Digit accuracy for flipflop of length 18 is 0.9658870794174618\n"
     ]
    }
   ],
   "source": [
    "for length in olmo_flipflops.keys():\n",
    "    print(f\"Digit accuracy for flipflop of length {length} is {get_digit_accuracy(olmo_flipflops[length], 0)}\")"
   ]
  },
  {
   "cell_type": "markdown",
   "id": "2f169c72-2d12-4350-90be-a407902491f1",
   "metadata": {},
   "source": [
    "## Per digit accuracy for OLMo Flipflops - digit 1"
   ]
  },
  {
   "cell_type": "code",
   "execution_count": 67,
   "id": "3f85d899-c0e3-4f39-bbfc-c65d6edafe47",
   "metadata": {},
   "outputs": [
    {
     "name": "stdout",
     "output_type": "stream",
     "text": [
      "Digit accuracy for flipflop of length 4 is 0.0\n",
      "Digit accuracy for flipflop of length 6 is 0.5\n",
      "Digit accuracy for flipflop of length 8 is 0.5294117647058824\n",
      "Digit accuracy for flipflop of length 10 is 0.4189189189189189\n",
      "Digit accuracy for flipflop of length 12 is 0.37538461538461537\n",
      "Digit accuracy for flipflop of length 14 is 0.3547486033519553\n",
      "Digit accuracy for flipflop of length 16 is 0.3014088966281463\n",
      "Digit accuracy for flipflop of length 18 is 0.2702848123968721\n"
     ]
    }
   ],
   "source": [
    "for length in olmo_flipflops.keys():\n",
    "    print(f\"Digit accuracy for flipflop of length {length} is {get_digit_accuracy(olmo_flipflops[length], 1)}\")"
   ]
  },
  {
   "cell_type": "markdown",
   "id": "2706cf4b-5a6a-48a2-b095-f010b27c349a",
   "metadata": {},
   "source": [
    "## Per distance to last write for Llama Flipflops"
   ]
  },
  {
   "cell_type": "code",
   "execution_count": 68,
   "id": "17b5b30a-a80b-4d4a-aaef-13d80dd1058a",
   "metadata": {},
   "outputs": [
    {
     "name": "stdout",
     "output_type": "stream",
     "text": [
      "For distance 4 the accuracy is 0.9645085803432137\n",
      "For distance 6 the accuracy is 0.9662326056427933\n",
      "For distance 8 the accuracy is 0.9768361581920904\n",
      "For distance 10 the accuracy is 0.9824561403508771\n",
      "For distance 12 the accuracy is 0.9893004115226337\n",
      "For distance 14 the accuracy is 0.9861845972957084\n",
      "For distance 16 the accuracy is 1.0\n",
      "For distance 18 the accuracy is 0.9995427526291724\n"
     ]
    }
   ],
   "source": [
    "llama_per_distance = get_per_dist_accuracy(llama_to_18)\n",
    "for dist, acc in llama_per_distance.items():\n",
    "    print(f\"For distance {dist} the accuracy is {acc}\")"
   ]
  },
  {
   "cell_type": "markdown",
   "id": "b7f130fb-429e-4882-931e-d267c19b4fe4",
   "metadata": {},
   "source": [
    "## Per distance to last write for OLMo Flipflops"
   ]
  },
  {
   "cell_type": "code",
   "execution_count": 69,
   "id": "216e4aac-f22d-42b8-ac94-52a64b94ae58",
   "metadata": {},
   "outputs": [
    {
     "name": "stdout",
     "output_type": "stream",
     "text": [
      "For distance 4 the accuracy is 0.6414889928930491\n",
      "For distance 6 the accuracy is 0.6432401378782076\n",
      "For distance 8 the accuracy is 0.6386064030131827\n",
      "For distance 10 the accuracy is 0.6189083820662769\n",
      "For distance 12 the accuracy is 0.5845679012345679\n",
      "For distance 14 the accuracy is 0.5376249265138154\n",
      "For distance 16 the accuracy is 0.5480109739368999\n",
      "For distance 18 the accuracy is 0.571787837219936\n"
     ]
    }
   ],
   "source": [
    "olmo_per_distance = get_per_dist_accuracy(olmo_to_18)\n",
    "for dist, acc in olmo_per_distance.items():\n",
    "    print(f\"For distance {dist} the accuracy is {acc}\")"
   ]
  }
 ],
 "metadata": {
  "kernelspec": {
   "display_name": "Python 3 (ipykernel)",
   "language": "python",
   "name": "python3"
  },
  "language_info": {
   "codemirror_mode": {
    "name": "ipython",
    "version": 3
   },
   "file_extension": ".py",
   "mimetype": "text/x-python",
   "name": "python",
   "nbconvert_exporter": "python",
   "pygments_lexer": "ipython3",
   "version": "3.12.7"
  }
 },
 "nbformat": 4,
 "nbformat_minor": 5
}
